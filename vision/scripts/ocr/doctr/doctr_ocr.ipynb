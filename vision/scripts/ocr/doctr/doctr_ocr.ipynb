{
  "cells": [
    {
      "cell_type": "code",
      "execution_count": null,
      "metadata": {
        "id": "43tpfKq1IxQg",
        "collapsed": true
      },
      "outputs": [],
      "source": [
        "# TensorFlow\n",
        "# !pip install python-doctr[tf]\n",
        "# PyTorch\n",
        "!pip install python-doctr[torch]\n",
        "!pip install mplcursors\n",
        "# Restart runtime\n",
        "exit()"
      ]
    },
    {
      "cell_type": "code",
      "execution_count": null,
      "metadata": {
        "id": "2Qhrp88TPDZi",
        "collapsed": true
      },
      "outputs": [],
      "source": [
        "# Install some free fonts for result rendering\n",
        "!sudo apt-get install fonts-freefont-ttf -y"
      ]
    },
    {
      "cell_type": "code",
      "execution_count": null,
      "metadata": {
        "id": "xSoeo0hRJbnU"
      },
      "outputs": [],
      "source": [
        "%matplotlib inline\n",
        "import os\n",
        "\n",
        "# Let's pick the desired backend\n",
        "# os.environ['USE_TF'] = '1'\n",
        "os.environ['USE_TORCH'] = '1'\n",
        "\n",
        "import matplotlib.pyplot as plt\n",
        "\n",
        "from doctr.io import DocumentFile\n",
        "from doctr.models import ocr_predictor"
      ]
    },
    {
      "cell_type": "code",
      "source": [
        "%matplotlib inline\n",
        "import os\n",
        "import time\n",
        "import matplotlib.pyplot as plt\n",
        "\n",
        "# Let's pick the desired backend\n",
        "# os.environ['USE_TF'] = '1'\n",
        "os.environ['USE_TORCH'] = '1'\n",
        "\n",
        "from doctr.io import DocumentFile\n",
        "from doctr.models import ocr_predictor\n",
        "\n",
        "# Install some free fonts for result rendering\n",
        "!sudo apt-get install fonts-freefont-ttf -y\n",
        "\n",
        "from google.colab import files\n",
        "uploaded = files.upload()\n",
        "\n",
        "for fn in uploaded.keys():\n",
        "  image_path = fn\n",
        "\n",
        "  # Read the image\n",
        "  doc = DocumentFile.from_images(image_path)\n",
        "  # print(f\"Number of pages: {len(doc)}\")\n",
        "\n",
        "  # Instantiate a pretrained model\n",
        "  predictor = ocr_predictor(pretrained=True)\n",
        "\n",
        "  # Start timing\n",
        "  start_time = time.time()\n",
        "\n",
        "  # Perform OCR\n",
        "  result = predictor(doc)\n",
        "\n",
        "  # Calculate processing time\n",
        "  end_time = time.time()\n",
        "  processing_time = end_time - start_time\n",
        "\n",
        "  # Display the architecture\n",
        "  # print(predictor)\n",
        "\n",
        "  # Visualize the results\n",
        "  result.show()\n",
        "\n",
        "  # Synthesize the page\n",
        "  synthetic_pages = result.synthesize()\n",
        "  plt.imshow(synthetic_pages[0]); plt.axis('off'); plt.show()\n",
        "\n",
        "  # Print processing time\n",
        "  print(f\"Processing time: {processing_time:.2f} seconds\")\n",
        "\n",
        "  # Export the results\n",
        "  json_export = result.export()\n",
        "  print(json_export)\n",
        "\n",
        "  # Delete the image file\n",
        "  os.remove(image_path)\n",
        "\n",
        "  # Add a line break for better visual separation between iterations\n",
        "  print(\"\\n--------------------\\n\")"
      ],
      "metadata": {
        "id": "61wkOWWeRp2U"
      },
      "execution_count": null,
      "outputs": []
    }
  ],
  "metadata": {
    "colab": {
      "provenance": []
    },
    "kernelspec": {
      "display_name": "Python 3",
      "language": "python",
      "name": "python3"
    },
    "language_info": {
      "codemirror_mode": {
        "name": "ipython",
        "version": 3
      },
      "file_extension": ".py",
      "mimetype": "text/x-python",
      "name": "python",
      "nbconvert_exporter": "python",
      "pygments_lexer": "ipython3",
      "version": "3.8.8"
    }
  },
  "nbformat": 4,
  "nbformat_minor": 0
}