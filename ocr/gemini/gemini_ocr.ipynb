{
  "cells": [
    {
      "cell_type": "code",
      "execution_count": null,
      "metadata": {
        "id": "xuiLSV7amy3P"
      },
      "outputs": [],
      "source": [
        "!pip install -U -q \"google-generativeai>=0.7.2\""
      ]
    },
    {
      "cell_type": "code",
      "execution_count": 2,
      "metadata": {
        "id": "DTl-qZp34sht"
      },
      "outputs": [],
      "source": [
        "import google.generativeai as genai\n",
        "from google.colab import userdata\n",
        "\n",
        "GOOGLE_API_KEY=userdata.get('GOOGLE_API_KEY')\n",
        "genai.configure(api_key=GOOGLE_API_KEY)"
      ]
    },
    {
      "cell_type": "code",
      "source": [
        "from google.colab import files\n",
        "from PIL import Image\n",
        "import io\n",
        "import numpy as np\n",
        "import time\n",
        "import os  # Import the os module for file deletion\n",
        "\n",
        "def process_image(image_path):\n",
        "  \"\"\"Processes a single image and returns OCR results as a JSON object.\"\"\"\n",
        "  # Upload the file using the path\n",
        "  myfile = genai.upload_file(image_path)\n",
        "\n",
        "  model = genai.GenerativeModel(\"gemini-1.5-flash\")\n",
        "  result = model.generate_content(\n",
        "      [myfile,\n",
        "       \"\\n\\n\",\n",
        "       \"You are a highly skilled OCR system designed to extract information from product packaging. \\n\\n\"\n",
        "       \"**Your task:**\\n\"\n",
        "       \"- Read the text provided in the image.\\n\"\n",
        "       \"- Identify and extract the following key details:\\n\"\n",
        "       \"    - **Manufacturer:** The name of the company that produced the product.\\n\"\n",
        "       \"    - **Product Name:** The name of the product itself.\\n\"\n",
        "       \"    - **Ingredients:** A list of ingredients, if available.\\n\"\n",
        "       \"    - **Manufacturing Date:** The date when the product was manufactured (format: YYYY-MM-DD).\\n\"\n",
        "       \"    - **Expiry Date:** The date when the product expires (format: YYYY-MM-DD).\\n\"\n",
        "       \"    - **Net Weight:** The weight of the product (include units, e.g., 100g, 500ml).\\n\"\n",
        "       \"    - **Barcode:** The barcode number, if visible.\\n\"\n",
        "       \"    - **Other Relevant Details:** Any other crucial information you find on the packaging.\\n\\n\"\n",
        "       \"**Output Format:**\\n\\n\"\n",
        "       \"Provide your answer in a structured format, using JSON:\\n\"\n",
        "       \"```json\\n\"\n",
        "       \"{ \\n\"\n",
        "       \"  \\\"Manufacturer\\\": \\\"Manufacturer Name\\\", \\n\"\n",
        "       \"  \\\"Product Name\\\": \\\"Product Name\\\", \\n\"\n",
        "       \"  \\\"Ingredients\\\": [\\\"Ingredient 1\\\", \\\"Ingredient 2\\\", ...], \\n\"\n",
        "       \"  \\\"Manufacturing Date\\\": \\\"YYYY-MM-DD\\\", \\n\"\n",
        "       \"  \\\"Expiry Date\\\": \\\"YYYY-MM-DD\\\", \\n\"\n",
        "       \"  \\\"Net Weight\\\": \\\"Quantity with Units\\\", \\n\"\n",
        "       \"  \\\"Barcode\\\": \\\"Barcode Number\\\", \\n\"\n",
        "       \"  \\\"Other Relevant Details\\\": \\\"Any other information found\\\" \\n\"\n",
        "       \"}\\n\"\n",
        "       \"```\\n\\n\"\n",
        "       \"***Example:***\\n\"\n",
        "       \"Image: [Image of a product packaging]\\n\\n\"\n",
        "       \"Output:\\n\"\n",
        "       \"{ \\n\"\n",
        "       \"  \\\"Manufacturer\\\": \\\"Acme Foods\\\", \\n\"\n",
        "       \"  \\\"Product Name\\\": \\\"Organic Tomato Sauce\\\", \\n\"\n",
        "       \"  \\\"Ingredients\\\": [\\\"Tomatoes\\\", \\\"Salt\\\", \\\"Sugar\\\", \\\"Basil\\\"], \\n\"\n",
        "       \"  \\\"Manufacturing Date\\\": \\\"2024-03-15\\\", \\n\"\n",
        "       \"  \\\"Expiry Date\\\": \\\"2025-03-14\\\", \\n\"\n",
        "       \"  \\\"Net Weight\\\": \\\"500g\\\", \\n\"\n",
        "       \"  \\\"Barcode\\\": \\\"8765432109876\\\", \\n\"\n",
        "       \"  \\\"Other Relevant Details\\\": \\\"Contains gluten. Store in a cool, dry place.\\\" \\n\"\n",
        "       \"}\\n\"\n",
        "       ]\n",
        "  )\n",
        "  return result.parts[0].text\n",
        "\n",
        "# Upload multiple images\n",
        "uploaded = files.upload()\n",
        "\n",
        "# Process each image\n",
        "results = []\n",
        "for image_filename in uploaded:\n",
        "  # Access the uploaded image\n",
        "  image = Image.open(io.BytesIO(uploaded[image_filename]))  # Open the image\n",
        "\n",
        "  # Save the image to a temporary file\n",
        "  temp_image_path = f\"/content/{image_filename}\"  # Use the original filename\n",
        "  image.save(temp_image_path)  # Save the image\n",
        "\n",
        "  # Start timing\n",
        "  start_time = time.time()\n",
        "\n",
        "  # Process the image and store results\n",
        "  result = process_image(temp_image_path)\n",
        "  results.append(result)\n",
        "\n",
        "  # Stop timing and calculate the duration\n",
        "  end_time = time.time()\n",
        "  duration = end_time - start_time\n",
        "\n",
        "  print(f\"Image: {image_filename}\")\n",
        "  print(f\"Time taken: {duration:.2f} seconds\")  # Print the duration\n",
        "\n",
        "  # Delete the temporary image file\n",
        "  os.remove(temp_image_path)\n",
        "\n",
        "# Print the results\n",
        "print(\"Results:\")\n",
        "for i, result in enumerate(results):\n",
        "  print(f\"Result {i + 1}:\")\n",
        "  print(result)"
      ],
      "metadata": {
        "id": "FnsI0wUwlEpr"
      },
      "execution_count": null,
      "outputs": []
    }
  ],
  "metadata": {
    "colab": {
      "provenance": []
    },
    "google": {
      "image_path": "/site-assets/images/share.png",
      "keywords": [
        "examples",
        "googleai",
        "samplecode",
        "python",
        "embed",
        "function"
      ]
    },
    "kernelspec": {
      "display_name": "Python 3",
      "name": "python3"
    }
  },
  "nbformat": 4,
  "nbformat_minor": 0
}